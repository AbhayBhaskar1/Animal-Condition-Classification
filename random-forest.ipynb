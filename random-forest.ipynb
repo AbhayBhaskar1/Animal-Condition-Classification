{
 "cells": [
  {
   "cell_type": "code",
   "execution_count": 1,
   "id": "f6a7db39",
   "metadata": {
    "execution": {
     "iopub.execute_input": "2023-12-12T05:31:46.375275Z",
     "iopub.status.busy": "2023-12-12T05:31:46.374880Z",
     "iopub.status.idle": "2023-12-12T05:31:48.188879Z",
     "shell.execute_reply": "2023-12-12T05:31:48.187148Z"
    },
    "papermill": {
     "duration": 1.822636,
     "end_time": "2023-12-12T05:31:48.191788",
     "exception": false,
     "start_time": "2023-12-12T05:31:46.369152",
     "status": "completed"
    },
    "tags": []
   },
   "outputs": [],
   "source": [
    "import numpy as np\n",
    "import pandas as pd\n",
    "import seaborn as sns\n",
    "import matplotlib.pyplot as plt"
   ]
  },
  {
   "cell_type": "code",
   "execution_count": 4,
   "id": "3242b263",
   "metadata": {
    "execution": {
     "iopub.execute_input": "2023-12-12T05:31:48.201887Z",
     "iopub.status.busy": "2023-12-12T05:31:48.201332Z",
     "iopub.status.idle": "2023-12-12T05:31:48.244395Z",
     "shell.execute_reply": "2023-12-12T05:31:48.242535Z"
    },
    "papermill": {
     "duration": 0.051365,
     "end_time": "2023-12-12T05:31:48.247197",
     "exception": false,
     "start_time": "2023-12-12T05:31:48.195832",
     "status": "completed"
    },
    "tags": []
   },
   "outputs": [
    {
     "data": {
      "text/html": [
       "<div>\n",
       "<style scoped>\n",
       "    .dataframe tbody tr th:only-of-type {\n",
       "        vertical-align: middle;\n",
       "    }\n",
       "\n",
       "    .dataframe tbody tr th {\n",
       "        vertical-align: top;\n",
       "    }\n",
       "\n",
       "    .dataframe thead th {\n",
       "        text-align: right;\n",
       "    }\n",
       "</style>\n",
       "<table border=\"1\" class=\"dataframe\">\n",
       "  <thead>\n",
       "    <tr style=\"text-align: right;\">\n",
       "      <th></th>\n",
       "      <th>AnimalName</th>\n",
       "      <th>symptoms1</th>\n",
       "      <th>symptoms2</th>\n",
       "      <th>symptoms3</th>\n",
       "      <th>symptoms4</th>\n",
       "      <th>symptoms5</th>\n",
       "      <th>Dangerous</th>\n",
       "    </tr>\n",
       "  </thead>\n",
       "  <tbody>\n",
       "    <tr>\n",
       "      <th>0</th>\n",
       "      <td>Dog</td>\n",
       "      <td>Fever</td>\n",
       "      <td>Diarrhea</td>\n",
       "      <td>Vomiting</td>\n",
       "      <td>Weight loss</td>\n",
       "      <td>Dehydration</td>\n",
       "      <td>Yes</td>\n",
       "    </tr>\n",
       "    <tr>\n",
       "      <th>1</th>\n",
       "      <td>Dog</td>\n",
       "      <td>Fever</td>\n",
       "      <td>Diarrhea</td>\n",
       "      <td>Coughing</td>\n",
       "      <td>Tiredness</td>\n",
       "      <td>Pains</td>\n",
       "      <td>Yes</td>\n",
       "    </tr>\n",
       "    <tr>\n",
       "      <th>2</th>\n",
       "      <td>Dog</td>\n",
       "      <td>Fever</td>\n",
       "      <td>Diarrhea</td>\n",
       "      <td>Coughing</td>\n",
       "      <td>Vomiting</td>\n",
       "      <td>Anorexia</td>\n",
       "      <td>Yes</td>\n",
       "    </tr>\n",
       "    <tr>\n",
       "      <th>3</th>\n",
       "      <td>Dog</td>\n",
       "      <td>Fever</td>\n",
       "      <td>Difficulty breathing</td>\n",
       "      <td>Coughing</td>\n",
       "      <td>Lethargy</td>\n",
       "      <td>Sneezing</td>\n",
       "      <td>Yes</td>\n",
       "    </tr>\n",
       "    <tr>\n",
       "      <th>4</th>\n",
       "      <td>Dog</td>\n",
       "      <td>Fever</td>\n",
       "      <td>Diarrhea</td>\n",
       "      <td>Coughing</td>\n",
       "      <td>Lethargy</td>\n",
       "      <td>Blue Eye</td>\n",
       "      <td>Yes</td>\n",
       "    </tr>\n",
       "  </tbody>\n",
       "</table>\n",
       "</div>"
      ],
      "text/plain": [
       "  AnimalName symptoms1             symptoms2 symptoms3    symptoms4  \\\n",
       "0        Dog     Fever              Diarrhea  Vomiting  Weight loss   \n",
       "1        Dog     Fever              Diarrhea  Coughing    Tiredness   \n",
       "2        Dog     Fever              Diarrhea  Coughing     Vomiting   \n",
       "3        Dog     Fever  Difficulty breathing  Coughing     Lethargy   \n",
       "4        Dog     Fever              Diarrhea  Coughing     Lethargy   \n",
       "\n",
       "     symptoms5 Dangerous  \n",
       "0  Dehydration       Yes  \n",
       "1        Pains       Yes  \n",
       "2     Anorexia       Yes  \n",
       "3     Sneezing       Yes  \n",
       "4     Blue Eye       Yes  "
      ]
     },
     "execution_count": 4,
     "metadata": {},
     "output_type": "execute_result"
    }
   ],
   "source": [
    "df = pd.read_csv('data.csv')\n",
    "df.head()"
   ]
  },
  {
   "cell_type": "code",
   "execution_count": 5,
   "id": "3d611cb4",
   "metadata": {
    "execution": {
     "iopub.execute_input": "2023-12-12T05:31:48.256714Z",
     "iopub.status.busy": "2023-12-12T05:31:48.256415Z",
     "iopub.status.idle": "2023-12-12T05:31:48.272927Z",
     "shell.execute_reply": "2023-12-12T05:31:48.271641Z"
    },
    "papermill": {
     "duration": 0.024038,
     "end_time": "2023-12-12T05:31:48.275305",
     "exception": false,
     "start_time": "2023-12-12T05:31:48.251267",
     "status": "completed"
    },
    "tags": []
   },
   "outputs": [
    {
     "data": {
      "text/plain": [
       "Dangerous\n",
       "Yes    849\n",
       "No      20\n",
       "Name: count, dtype: int64"
      ]
     },
     "execution_count": 5,
     "metadata": {},
     "output_type": "execute_result"
    }
   ],
   "source": [
    "df['Dangerous'].value_counts()"
   ]
  },
  {
   "cell_type": "code",
   "execution_count": 6,
   "id": "56829f5e",
   "metadata": {
    "execution": {
     "iopub.execute_input": "2023-12-12T05:31:48.285130Z",
     "iopub.status.busy": "2023-12-12T05:31:48.284773Z",
     "iopub.status.idle": "2023-12-12T05:31:48.388662Z",
     "shell.execute_reply": "2023-12-12T05:31:48.386491Z"
    },
    "papermill": {
     "duration": 0.111657,
     "end_time": "2023-12-12T05:31:48.391035",
     "exception": false,
     "start_time": "2023-12-12T05:31:48.279378",
     "status": "completed"
    },
    "tags": []
   },
   "outputs": [
    {
     "name": "stdout",
     "output_type": "stream",
     "text": [
      "<class 'pandas.core.frame.DataFrame'>\n",
      "RangeIndex: 871 entries, 0 to 870\n",
      "Data columns (total 7 columns):\n",
      " #   Column      Non-Null Count  Dtype \n",
      "---  ------      --------------  ----- \n",
      " 0   AnimalName  871 non-null    object\n",
      " 1   symptoms1   871 non-null    object\n",
      " 2   symptoms2   871 non-null    object\n",
      " 3   symptoms3   871 non-null    object\n",
      " 4   symptoms4   871 non-null    object\n",
      " 5   symptoms5   871 non-null    object\n",
      " 6   Dangerous   869 non-null    object\n",
      "dtypes: object(7)\n",
      "memory usage: 47.8+ KB\n"
     ]
    }
   ],
   "source": [
    "df.info()"
   ]
  },
  {
   "cell_type": "code",
   "execution_count": 7,
   "id": "5b86c8a2",
   "metadata": {
    "execution": {
     "iopub.execute_input": "2023-12-12T05:31:48.404187Z",
     "iopub.status.busy": "2023-12-12T05:31:48.403768Z",
     "iopub.status.idle": "2023-12-12T05:31:48.410226Z",
     "shell.execute_reply": "2023-12-12T05:31:48.408650Z"
    },
    "papermill": {
     "duration": 0.015231,
     "end_time": "2023-12-12T05:31:48.412893",
     "exception": false,
     "start_time": "2023-12-12T05:31:48.397662",
     "status": "completed"
    },
    "tags": []
   },
   "outputs": [
    {
     "name": "stdout",
     "output_type": "stream",
     "text": [
      "Value counts in the AnimalName\n",
      "Value counts in the symptoms1\n",
      "Value counts in the symptoms2\n",
      "Value counts in the symptoms3\n",
      "Value counts in the symptoms4\n",
      "Value counts in the symptoms5\n",
      "Value counts in the Dangerous\n"
     ]
    }
   ],
   "source": [
    "for i,col in enumerate(df.columns):\n",
    "    print(f'Value counts in the {col}')"
   ]
  },
  {
   "cell_type": "code",
   "execution_count": 8,
   "id": "b64fc9ef",
   "metadata": {
    "execution": {
     "iopub.execute_input": "2023-12-12T05:31:48.425887Z",
     "iopub.status.busy": "2023-12-12T05:31:48.425242Z",
     "iopub.status.idle": "2023-12-12T05:31:48.435162Z",
     "shell.execute_reply": "2023-12-12T05:31:48.434011Z"
    },
    "papermill": {
     "duration": 0.018974,
     "end_time": "2023-12-12T05:31:48.437406",
     "exception": false,
     "start_time": "2023-12-12T05:31:48.418432",
     "status": "completed"
    },
    "tags": []
   },
   "outputs": [
    {
     "data": {
      "text/plain": [
       "AnimalName    0\n",
       "symptoms1     0\n",
       "symptoms2     0\n",
       "symptoms3     0\n",
       "symptoms4     0\n",
       "symptoms5     0\n",
       "Dangerous     2\n",
       "dtype: int64"
      ]
     },
     "execution_count": 8,
     "metadata": {},
     "output_type": "execute_result"
    }
   ],
   "source": [
    "df.isnull().sum()"
   ]
  },
  {
   "cell_type": "code",
   "execution_count": 9,
   "id": "1bcf0e1f",
   "metadata": {
    "execution": {
     "iopub.execute_input": "2023-12-12T05:31:48.447874Z",
     "iopub.status.busy": "2023-12-12T05:31:48.447555Z",
     "iopub.status.idle": "2023-12-12T05:31:48.460905Z",
     "shell.execute_reply": "2023-12-12T05:31:48.459220Z"
    },
    "papermill": {
     "duration": 0.021747,
     "end_time": "2023-12-12T05:31:48.463655",
     "exception": false,
     "start_time": "2023-12-12T05:31:48.441908",
     "status": "completed"
    },
    "tags": []
   },
   "outputs": [
    {
     "data": {
      "text/html": [
       "<div>\n",
       "<style scoped>\n",
       "    .dataframe tbody tr th:only-of-type {\n",
       "        vertical-align: middle;\n",
       "    }\n",
       "\n",
       "    .dataframe tbody tr th {\n",
       "        vertical-align: top;\n",
       "    }\n",
       "\n",
       "    .dataframe thead th {\n",
       "        text-align: right;\n",
       "    }\n",
       "</style>\n",
       "<table border=\"1\" class=\"dataframe\">\n",
       "  <thead>\n",
       "    <tr style=\"text-align: right;\">\n",
       "      <th></th>\n",
       "      <th>AnimalName</th>\n",
       "      <th>symptoms1</th>\n",
       "      <th>symptoms2</th>\n",
       "      <th>symptoms3</th>\n",
       "      <th>symptoms4</th>\n",
       "      <th>symptoms5</th>\n",
       "      <th>Dangerous</th>\n",
       "    </tr>\n",
       "  </thead>\n",
       "  <tbody>\n",
       "    <tr>\n",
       "      <th>269</th>\n",
       "      <td>Sheep</td>\n",
       "      <td>Teeth griding</td>\n",
       "      <td>Apathy</td>\n",
       "      <td>Dehydration</td>\n",
       "      <td>Ruminal stasis</td>\n",
       "      <td>Watery faeces</td>\n",
       "      <td>NaN</td>\n",
       "    </tr>\n",
       "    <tr>\n",
       "      <th>695</th>\n",
       "      <td>Buffaloes</td>\n",
       "      <td>Teeth griding</td>\n",
       "      <td>Apathy</td>\n",
       "      <td>Dehydration</td>\n",
       "      <td>Ruminal stasis</td>\n",
       "      <td>Watery faeces</td>\n",
       "      <td>NaN</td>\n",
       "    </tr>\n",
       "  </tbody>\n",
       "</table>\n",
       "</div>"
      ],
      "text/plain": [
       "    AnimalName      symptoms1 symptoms2    symptoms3       symptoms4  \\\n",
       "269      Sheep  Teeth griding    Apathy  Dehydration  Ruminal stasis   \n",
       "695  Buffaloes  Teeth griding    Apathy  Dehydration  Ruminal stasis   \n",
       "\n",
       "         symptoms5 Dangerous  \n",
       "269  Watery faeces       NaN  \n",
       "695  Watery faeces       NaN  "
      ]
     },
     "execution_count": 9,
     "metadata": {},
     "output_type": "execute_result"
    }
   ],
   "source": [
    "df[df['Dangerous'].isnull()]"
   ]
  },
  {
   "cell_type": "code",
   "execution_count": 10,
   "id": "5ce5cc18",
   "metadata": {
    "execution": {
     "iopub.execute_input": "2023-12-12T05:31:48.476728Z",
     "iopub.status.busy": "2023-12-12T05:31:48.476357Z",
     "iopub.status.idle": "2023-12-12T05:31:48.485277Z",
     "shell.execute_reply": "2023-12-12T05:31:48.483612Z"
    },
    "papermill": {
     "duration": 0.018422,
     "end_time": "2023-12-12T05:31:48.487881",
     "exception": false,
     "start_time": "2023-12-12T05:31:48.469459",
     "status": "completed"
    },
    "tags": []
   },
   "outputs": [],
   "source": [
    "df = df.dropna()"
   ]
  },
  {
   "cell_type": "code",
   "execution_count": 11,
   "id": "3718614d",
   "metadata": {
    "execution": {
     "iopub.execute_input": "2023-12-12T05:31:48.500131Z",
     "iopub.status.busy": "2023-12-12T05:31:48.499782Z",
     "iopub.status.idle": "2023-12-12T05:31:48.507268Z",
     "shell.execute_reply": "2023-12-12T05:31:48.506188Z"
    },
    "papermill": {
     "duration": 0.015918,
     "end_time": "2023-12-12T05:31:48.509302",
     "exception": false,
     "start_time": "2023-12-12T05:31:48.493384",
     "status": "completed"
    },
    "tags": []
   },
   "outputs": [
    {
     "data": {
      "text/plain": [
       "AnimalName    0\n",
       "symptoms1     0\n",
       "symptoms2     0\n",
       "symptoms3     0\n",
       "symptoms4     0\n",
       "symptoms5     0\n",
       "Dangerous     0\n",
       "dtype: int64"
      ]
     },
     "execution_count": 11,
     "metadata": {},
     "output_type": "execute_result"
    }
   ],
   "source": [
    "df.isnull().sum()"
   ]
  },
  {
   "cell_type": "code",
   "execution_count": 12,
   "id": "3c18acc4",
   "metadata": {
    "execution": {
     "iopub.execute_input": "2023-12-12T05:31:48.521114Z",
     "iopub.status.busy": "2023-12-12T05:31:48.520682Z",
     "iopub.status.idle": "2023-12-12T05:31:48.540750Z",
     "shell.execute_reply": "2023-12-12T05:31:48.539400Z"
    },
    "papermill": {
     "duration": 0.029172,
     "end_time": "2023-12-12T05:31:48.543526",
     "exception": false,
     "start_time": "2023-12-12T05:31:48.514354",
     "status": "completed"
    },
    "tags": []
   },
   "outputs": [],
   "source": [
    "df = pd.get_dummies(df, drop_first=True)"
   ]
  },
  {
   "cell_type": "code",
   "execution_count": 13,
   "id": "5fcb33e3",
   "metadata": {
    "execution": {
     "iopub.execute_input": "2023-12-12T05:31:48.555403Z",
     "iopub.status.busy": "2023-12-12T05:31:48.555017Z",
     "iopub.status.idle": "2023-12-12T05:31:48.871781Z",
     "shell.execute_reply": "2023-12-12T05:31:48.870195Z"
    },
    "papermill": {
     "duration": 0.325173,
     "end_time": "2023-12-12T05:31:48.873823",
     "exception": false,
     "start_time": "2023-12-12T05:31:48.548650",
     "status": "completed"
    },
    "tags": []
   },
   "outputs": [],
   "source": [
    "from sklearn.model_selection import train_test_split"
   ]
  },
  {
   "cell_type": "code",
   "execution_count": 14,
   "id": "e44e91c1",
   "metadata": {
    "execution": {
     "iopub.execute_input": "2023-12-12T05:31:48.886820Z",
     "iopub.status.busy": "2023-12-12T05:31:48.886448Z",
     "iopub.status.idle": "2023-12-12T05:31:48.896009Z",
     "shell.execute_reply": "2023-12-12T05:31:48.894622Z"
    },
    "papermill": {
     "duration": 0.019068,
     "end_time": "2023-12-12T05:31:48.898749",
     "exception": false,
     "start_time": "2023-12-12T05:31:48.879681",
     "status": "completed"
    },
    "tags": []
   },
   "outputs": [
    {
     "data": {
      "text/plain": [
       "Index(['AnimalName_Black-tailed deer', 'AnimalName_Buffaloes',\n",
       "       'AnimalName_Cattle', 'AnimalName_Chicken', 'AnimalName_Deer',\n",
       "       'AnimalName_Dog', 'AnimalName_Dogs', 'AnimalName_Donkey',\n",
       "       'AnimalName_Duck', 'AnimalName_Elephant',\n",
       "       ...\n",
       "       'symptoms5_slow growth', 'symptoms5_sudden death',\n",
       "       'symptoms5_swollen abdomen', 'symptoms5_trembling',\n",
       "       'symptoms5_twisted neck', 'symptoms5_urination problem',\n",
       "       'symptoms5_weakness', 'symptoms5_ increased passing gas',\n",
       "       'symptoms5_ pain and bloating', 'Dangerous_Yes'],\n",
       "      dtype='object', length=1148)"
      ]
     },
     "execution_count": 14,
     "metadata": {},
     "output_type": "execute_result"
    }
   ],
   "source": [
    "df.columns"
   ]
  },
  {
   "cell_type": "code",
   "execution_count": 15,
   "id": "6d9cd6b3",
   "metadata": {
    "execution": {
     "iopub.execute_input": "2023-12-12T05:31:48.910672Z",
     "iopub.status.busy": "2023-12-12T05:31:48.910296Z",
     "iopub.status.idle": "2023-12-12T05:31:48.922373Z",
     "shell.execute_reply": "2023-12-12T05:31:48.920921Z"
    },
    "papermill": {
     "duration": 0.021181,
     "end_time": "2023-12-12T05:31:48.925071",
     "exception": false,
     "start_time": "2023-12-12T05:31:48.903890",
     "status": "completed"
    },
    "tags": []
   },
   "outputs": [],
   "source": [
    "X = df.drop('Dangerous_Yes', axis=1)\n",
    "y = df['Dangerous_Yes']"
   ]
  },
  {
   "cell_type": "code",
   "execution_count": 16,
   "id": "0c62c2e5",
   "metadata": {
    "execution": {
     "iopub.execute_input": "2023-12-12T05:31:48.936922Z",
     "iopub.status.busy": "2023-12-12T05:31:48.936595Z",
     "iopub.status.idle": "2023-12-12T05:31:48.948051Z",
     "shell.execute_reply": "2023-12-12T05:31:48.946753Z"
    },
    "papermill": {
     "duration": 0.020123,
     "end_time": "2023-12-12T05:31:48.950412",
     "exception": false,
     "start_time": "2023-12-12T05:31:48.930289",
     "status": "completed"
    },
    "tags": []
   },
   "outputs": [],
   "source": [
    "X_train, X_test, y_train, y_test = train_test_split(X, y, test_size=0.33, random_state=42)"
   ]
  },
  {
   "cell_type": "code",
   "execution_count": 17,
   "id": "8d485e26",
   "metadata": {
    "execution": {
     "iopub.execute_input": "2023-12-12T05:31:48.962443Z",
     "iopub.status.busy": "2023-12-12T05:31:48.962099Z",
     "iopub.status.idle": "2023-12-12T05:31:49.273226Z",
     "shell.execute_reply": "2023-12-12T05:31:49.271483Z"
    },
    "papermill": {
     "duration": 0.320402,
     "end_time": "2023-12-12T05:31:49.276105",
     "exception": false,
     "start_time": "2023-12-12T05:31:48.955703",
     "status": "completed"
    },
    "tags": []
   },
   "outputs": [],
   "source": [
    "from sklearn.ensemble import RandomForestClassifier"
   ]
  },
  {
   "cell_type": "code",
   "execution_count": 18,
   "id": "22c4324c",
   "metadata": {
    "execution": {
     "iopub.execute_input": "2023-12-12T05:31:49.289517Z",
     "iopub.status.busy": "2023-12-12T05:31:49.289174Z",
     "iopub.status.idle": "2023-12-12T05:31:49.295207Z",
     "shell.execute_reply": "2023-12-12T05:31:49.293442Z"
    },
    "papermill": {
     "duration": 0.016507,
     "end_time": "2023-12-12T05:31:49.298503",
     "exception": false,
     "start_time": "2023-12-12T05:31:49.281996",
     "status": "completed"
    },
    "tags": []
   },
   "outputs": [],
   "source": [
    "rfc = RandomForestClassifier()"
   ]
  },
  {
   "cell_type": "code",
   "execution_count": 19,
   "id": "10aa8967",
   "metadata": {
    "execution": {
     "iopub.execute_input": "2023-12-12T05:31:49.311265Z",
     "iopub.status.busy": "2023-12-12T05:31:49.310848Z",
     "iopub.status.idle": "2023-12-12T05:31:49.521157Z",
     "shell.execute_reply": "2023-12-12T05:31:49.520144Z"
    },
    "papermill": {
     "duration": 0.219152,
     "end_time": "2023-12-12T05:31:49.523535",
     "exception": false,
     "start_time": "2023-12-12T05:31:49.304383",
     "status": "completed"
    },
    "tags": []
   },
   "outputs": [
    {
     "data": {
      "text/html": [
       "<style>#sk-container-id-1 {color: black;}#sk-container-id-1 pre{padding: 0;}#sk-container-id-1 div.sk-toggleable {background-color: white;}#sk-container-id-1 label.sk-toggleable__label {cursor: pointer;display: block;width: 100%;margin-bottom: 0;padding: 0.3em;box-sizing: border-box;text-align: center;}#sk-container-id-1 label.sk-toggleable__label-arrow:before {content: \"▸\";float: left;margin-right: 0.25em;color: #696969;}#sk-container-id-1 label.sk-toggleable__label-arrow:hover:before {color: black;}#sk-container-id-1 div.sk-estimator:hover label.sk-toggleable__label-arrow:before {color: black;}#sk-container-id-1 div.sk-toggleable__content {max-height: 0;max-width: 0;overflow: hidden;text-align: left;background-color: #f0f8ff;}#sk-container-id-1 div.sk-toggleable__content pre {margin: 0.2em;color: black;border-radius: 0.25em;background-color: #f0f8ff;}#sk-container-id-1 input.sk-toggleable__control:checked~div.sk-toggleable__content {max-height: 200px;max-width: 100%;overflow: auto;}#sk-container-id-1 input.sk-toggleable__control:checked~label.sk-toggleable__label-arrow:before {content: \"▾\";}#sk-container-id-1 div.sk-estimator input.sk-toggleable__control:checked~label.sk-toggleable__label {background-color: #d4ebff;}#sk-container-id-1 div.sk-label input.sk-toggleable__control:checked~label.sk-toggleable__label {background-color: #d4ebff;}#sk-container-id-1 input.sk-hidden--visually {border: 0;clip: rect(1px 1px 1px 1px);clip: rect(1px, 1px, 1px, 1px);height: 1px;margin: -1px;overflow: hidden;padding: 0;position: absolute;width: 1px;}#sk-container-id-1 div.sk-estimator {font-family: monospace;background-color: #f0f8ff;border: 1px dotted black;border-radius: 0.25em;box-sizing: border-box;margin-bottom: 0.5em;}#sk-container-id-1 div.sk-estimator:hover {background-color: #d4ebff;}#sk-container-id-1 div.sk-parallel-item::after {content: \"\";width: 100%;border-bottom: 1px solid gray;flex-grow: 1;}#sk-container-id-1 div.sk-label:hover label.sk-toggleable__label {background-color: #d4ebff;}#sk-container-id-1 div.sk-serial::before {content: \"\";position: absolute;border-left: 1px solid gray;box-sizing: border-box;top: 0;bottom: 0;left: 50%;z-index: 0;}#sk-container-id-1 div.sk-serial {display: flex;flex-direction: column;align-items: center;background-color: white;padding-right: 0.2em;padding-left: 0.2em;position: relative;}#sk-container-id-1 div.sk-item {position: relative;z-index: 1;}#sk-container-id-1 div.sk-parallel {display: flex;align-items: stretch;justify-content: center;background-color: white;position: relative;}#sk-container-id-1 div.sk-item::before, #sk-container-id-1 div.sk-parallel-item::before {content: \"\";position: absolute;border-left: 1px solid gray;box-sizing: border-box;top: 0;bottom: 0;left: 50%;z-index: -1;}#sk-container-id-1 div.sk-parallel-item {display: flex;flex-direction: column;z-index: 1;position: relative;background-color: white;}#sk-container-id-1 div.sk-parallel-item:first-child::after {align-self: flex-end;width: 50%;}#sk-container-id-1 div.sk-parallel-item:last-child::after {align-self: flex-start;width: 50%;}#sk-container-id-1 div.sk-parallel-item:only-child::after {width: 0;}#sk-container-id-1 div.sk-dashed-wrapped {border: 1px dashed gray;margin: 0 0.4em 0.5em 0.4em;box-sizing: border-box;padding-bottom: 0.4em;background-color: white;}#sk-container-id-1 div.sk-label label {font-family: monospace;font-weight: bold;display: inline-block;line-height: 1.2em;}#sk-container-id-1 div.sk-label-container {text-align: center;}#sk-container-id-1 div.sk-container {/* jupyter's `normalize.less` sets `[hidden] { display: none; }` but bootstrap.min.css set `[hidden] { display: none !important; }` so we also need the `!important` here to be able to override the default hidden behavior on the sphinx rendered scikit-learn.org. See: https://github.com/scikit-learn/scikit-learn/issues/21755 */display: inline-block !important;position: relative;}#sk-container-id-1 div.sk-text-repr-fallback {display: none;}</style><div id=\"sk-container-id-1\" class=\"sk-top-container\"><div class=\"sk-text-repr-fallback\"><pre>RandomForestClassifier()</pre><b>In a Jupyter environment, please rerun this cell to show the HTML representation or trust the notebook. <br />On GitHub, the HTML representation is unable to render, please try loading this page with nbviewer.org.</b></div><div class=\"sk-container\" hidden><div class=\"sk-item\"><div class=\"sk-estimator sk-toggleable\"><input class=\"sk-toggleable__control sk-hidden--visually\" id=\"sk-estimator-id-1\" type=\"checkbox\" checked><label for=\"sk-estimator-id-1\" class=\"sk-toggleable__label sk-toggleable__label-arrow\">RandomForestClassifier</label><div class=\"sk-toggleable__content\"><pre>RandomForestClassifier()</pre></div></div></div></div></div>"
      ],
      "text/plain": [
       "RandomForestClassifier()"
      ]
     },
     "execution_count": 19,
     "metadata": {},
     "output_type": "execute_result"
    }
   ],
   "source": [
    "rfc.fit(X_train, y_train)"
   ]
  },
  {
   "cell_type": "code",
   "execution_count": 20,
   "id": "3be61c2e",
   "metadata": {
    "execution": {
     "iopub.execute_input": "2023-12-12T05:31:49.536504Z",
     "iopub.status.busy": "2023-12-12T05:31:49.536158Z",
     "iopub.status.idle": "2023-12-12T05:31:49.541650Z",
     "shell.execute_reply": "2023-12-12T05:31:49.540354Z"
    },
    "papermill": {
     "duration": 0.015067,
     "end_time": "2023-12-12T05:31:49.544485",
     "exception": false,
     "start_time": "2023-12-12T05:31:49.529418",
     "status": "completed"
    },
    "tags": []
   },
   "outputs": [],
   "source": [
    "from sklearn.metrics import classification_report, confusion_matrix, ConfusionMatrixDisplay, accuracy_score\n",
    "def report_model(model):\n",
    "    y_pred = model.predict(X_test)\n",
    "    print(classification_report(y_test, y_pred))\n",
    "    cm = confusion_matrix(y_test, y_pred)\n",
    "    ConfusionMatrixDisplay(cm).plot()"
   ]
  },
  {
   "cell_type": "code",
   "execution_count": 21,
   "id": "f49e2214",
   "metadata": {
    "execution": {
     "iopub.execute_input": "2023-12-12T05:31:49.557821Z",
     "iopub.status.busy": "2023-12-12T05:31:49.557418Z",
     "iopub.status.idle": "2023-12-12T05:31:49.844323Z",
     "shell.execute_reply": "2023-12-12T05:31:49.842820Z"
    },
    "papermill": {
     "duration": 0.296493,
     "end_time": "2023-12-12T05:31:49.846887",
     "exception": false,
     "start_time": "2023-12-12T05:31:49.550394",
     "status": "completed"
    },
    "tags": []
   },
   "outputs": [
    {
     "name": "stderr",
     "output_type": "stream",
     "text": [
      "c:\\Users\\mabha\\.conda\\envs\\kidneydisease\\lib\\site-packages\\sklearn\\metrics\\_classification.py:1471: UndefinedMetricWarning: Precision and F-score are ill-defined and being set to 0.0 in labels with no predicted samples. Use `zero_division` parameter to control this behavior.\n",
      "  _warn_prf(average, modifier, msg_start, len(result))\n",
      "c:\\Users\\mabha\\.conda\\envs\\kidneydisease\\lib\\site-packages\\sklearn\\metrics\\_classification.py:1471: UndefinedMetricWarning: Precision and F-score are ill-defined and being set to 0.0 in labels with no predicted samples. Use `zero_division` parameter to control this behavior.\n",
      "  _warn_prf(average, modifier, msg_start, len(result))\n",
      "c:\\Users\\mabha\\.conda\\envs\\kidneydisease\\lib\\site-packages\\sklearn\\metrics\\_classification.py:1471: UndefinedMetricWarning: Precision and F-score are ill-defined and being set to 0.0 in labels with no predicted samples. Use `zero_division` parameter to control this behavior.\n",
      "  _warn_prf(average, modifier, msg_start, len(result))\n"
     ]
    },
    {
     "name": "stdout",
     "output_type": "stream",
     "text": [
      "              precision    recall  f1-score   support\n",
      "\n",
      "       False       0.00      0.00      0.00         5\n",
      "        True       0.98      1.00      0.99       282\n",
      "\n",
      "    accuracy                           0.98       287\n",
      "   macro avg       0.49      0.50      0.50       287\n",
      "weighted avg       0.97      0.98      0.97       287\n",
      "\n"
     ]
    },
    {
     "data": {
      "image/png": "[encoded data removed]",
      "text/plain": [
       "<Figure size 640x480 with 2 Axes>"
      ]
     },
     "metadata": {},
     "output_type": "display_data"
    }
   ],
   "source": [
    "report_model(rfc)"
   ]
  },
  {
   "cell_type": "code",
   "execution_count": null,
   "id": "2637d721",
   "metadata": {
    "papermill": {
     "duration": 0.00601,
     "end_time": "2023-12-12T05:31:49.859015",
     "exception": false,
     "start_time": "2023-12-12T05:31:49.853005",
     "status": "completed"
    },
    "tags": []
   },
   "outputs": [],
   "source": []
  },
  {
   "cell_type": "code",
   "execution_count": null,
   "id": "f6eccbad",
   "metadata": {},
   "outputs": [],
   "source": []
  },
  {
   "cell_type": "code",
   "execution_count": null,
   "id": "11de06a7",
   "metadata": {},
   "outputs": [],
   "source": []
  },
  {
   "cell_type": "code",
   "execution_count": null,
   "id": "7af017a2",
   "metadata": {},
   "outputs": [],
   "source": []
  }
 ],
 "metadata": {
  "kaggle": {
   "accelerator": "none",
   "dataSources": [
    {
     "datasetId": 3925228,
     "sourceId": 6826171,
     "sourceType": "datasetVersion"
    }
   ],
   "isGpuEnabled": false,
   "isInternetEnabled": true,
   "language": "python",
   "sourceType": "notebook"
  },
  "kernelspec": {
   "display_name": "Python 3",
   "language": "python",
   "name": "python3"
  },
  "language_info": {
   "codemirror_mode": {
    "name": "ipython",
    "version": 3
   },
   "file_extension": ".py",
   "mimetype": "text/x-python",
   "name": "python",
   "nbconvert_exporter": "python",
   "pygments_lexer": "ipython3",
   "version": "3.8.19"
  },
  "papermill": {
   "default_parameters": {},
   "duration": 6.921653,
   "end_time": "2023-12-12T05:31:50.487134",
   "environment_variables": {},
   "exception": null,
   "input_path": "__notebook__.ipynb",
   "output_path": "__notebook__.ipynb",
   "parameters": {},
   "start_time": "2023-12-12T05:31:43.565481",
   "version": "2.4.0"
  }
 },
 "nbformat": 4,
 "nbformat_minor": 5
}
